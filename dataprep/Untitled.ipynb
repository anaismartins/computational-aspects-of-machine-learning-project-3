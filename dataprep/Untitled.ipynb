{
 "cells": [
  {
   "cell_type": "code",
   "execution_count": 36,
   "id": "aee49a50-696b-458a-8216-1fbb90c475a6",
   "metadata": {},
   "outputs": [
    {
     "name": "stderr",
     "output_type": "stream",
     "text": [
      "/tmp/ipykernel_11755/481946896.py:15: MatplotlibDeprecationWarning: The seaborn styles shipped by Matplotlib are deprecated since 3.6, as they no longer correspond to the styles shipped by seaborn. However, they will remain available as 'seaborn-v0_8-<style>'. Alternatively, directly use the seaborn API instead.\n",
      "  plt.style.use(\"seaborn-colorblind\")\n"
     ]
    }
   ],
   "source": [
    "import pandas as pd\n",
    "import numpy as np\n",
    "import os\n",
    "import matplotlib.pyplot as plt\n",
    "import h5py\n",
    "\n",
    "plt.rcParams['figure.figsize'] = [8, 6]\n",
    "plt.rcParams['axes.labelsize'] = 14\n",
    "plt.rcParams['legend.fontsize'] = 15\n",
    "plt.rcParams['xtick.labelsize'] = 15\n",
    "plt.rcParams['ytick.labelsize'] = 15\n",
    "plt.rcParams['axes.titlesize'] = 16\n",
    "plt.rcParams['figure.dpi'] = 100\n",
    "\n",
    "plt.style.use(\"seaborn-colorblind\")"
   ]
  },
  {
   "cell_type": "markdown",
   "id": "6c0801b7-3c6b-49d4-86ee-8ded3f6403d2",
   "metadata": {},
   "source": [
    "## Correct pre-processing"
   ]
  },
  {
   "cell_type": "code",
   "execution_count": 172,
   "id": "d0e9f5ce-3e67-46dd-bc47-291c2d0ebc5c",
   "metadata": {},
   "outputs": [],
   "source": [
    "folder_path = '/home/melissa.lopez/GlitchBank/LargeAnalysis/O3aGB/FinalData/'\n",
    "detector = 'L1'"
   ]
  },
  {
   "cell_type": "code",
   "execution_count": 173,
   "id": "431a699b-161c-44bf-a356-15260d73a265",
   "metadata": {},
   "outputs": [],
   "source": [
    "# Define some lists\n",
    "blip_files, fast_scattering_files, injection_files = list(), list(), list()\n",
    "koyfish_files, lowfreq_files, tomte_files = list(), list(), list()\n",
    "whistle_files = list()\n",
    "\n",
    "# Iterate over all files in the given folder\n",
    "for filename in np.sort(os.listdir(folder_path)):\n",
    "    # Check if the file is a CSV file\n",
    "    if filename.endswith(\".csv\"):\n",
    "        #Check what type of data the file contains and put in in the corresponding list.\n",
    "        if filename.startswith(\"Blip_\" + detector):\n",
    "            blip_files.append((os.path.join(folder_path, filename)))                     \n",
    "        elif filename.startswith(\"Injections_\" + detector):\n",
    "            injection_files.append((os.path.join(folder_path, filename)))       \n",
    "        elif filename.startswith(\"Koi_Fish_\" + detector):\n",
    "            koyfish_files.append((os.path.join(folder_path, filename)))\n",
    "        elif filename.startswith(\"Low_Frequency_Burst_\" + detector):\n",
    "            lowfreq_files.append((os.path.join(folder_path, filename)))\n",
    "        elif filename.startswith(\"Tomte_\" + detector):\n",
    "            tomte_files.append((os.path.join(folder_path, filename)))\n",
    "        elif filename.startswith(\"Whistle_\" + detector):\n",
    "            whistle_files.append((os.path.join(folder_path, filename))) \n",
    "        elif filename.startswith(\"Fast_Scattering_\" + detector) and (detector != \"V1\"):\n",
    "            fast_scattering_files.append((os.path.join(folder_path, filename)))"
   ]
  },
  {
   "cell_type": "code",
   "execution_count": 12,
   "id": "692a105c-28e7-4557-bdd2-5e838f7e910a",
   "metadata": {},
   "outputs": [],
   "source": [
    "path = injection_files[0]\n",
    "df = pd.read_csv(path)"
   ]
  },
  {
   "cell_type": "code",
   "execution_count": 113,
   "id": "beb47e34-00ec-467b-8ac6-9c8ff4728846",
   "metadata": {},
   "outputs": [],
   "source": [
    "df1_grouped = df.groupby(['Cluster ID', 'Cluster time'])"
   ]
  },
  {
   "cell_type": "code",
   "execution_count": 191,
   "id": "4dff5f1d-6dd0-4378-a13c-d57ab86154fc",
   "metadata": {},
   "outputs": [],
   "source": [
    "def averageFeature(cols, group_name, tmp, classes):\n",
    "    feature = np.zeros((1, len(cols)))\n",
    "\n",
    "    for c in range(len(cols)-1):\n",
    "        feature[0, c] = (tmp[cols[c]] * weights).sum() / weights.sum()\n",
    "    feature[0, len(cols) - 1] = int(classes)\n",
    "    feature = pd.DataFrame(feature, columns=cols)\n",
    "\n",
    "    return feature"
   ]
  },
  {
   "cell_type": "code",
   "execution_count": 190,
   "id": "43676046-0e4e-4842-8b0d-920580f930db",
   "metadata": {},
   "outputs": [
    {
     "name": "stdout",
     "output_type": "stream",
     "text": [
      "(2, 1238166114.4367027)\n",
      "64 7.5837232859374994\n"
     ]
    },
    {
     "data": {
      "text/html": [
       "<div>\n",
       "<style scoped>\n",
       "    .dataframe tbody tr th:only-of-type {\n",
       "        vertical-align: middle;\n",
       "    }\n",
       "\n",
       "    .dataframe tbody tr th {\n",
       "        vertical-align: top;\n",
       "    }\n",
       "\n",
       "    .dataframe thead th {\n",
       "        text-align: right;\n",
       "    }\n",
       "</style>\n",
       "<table border=\"1\" class=\"dataframe\">\n",
       "  <thead>\n",
       "    <tr style=\"text-align: right;\">\n",
       "      <th></th>\n",
       "      <th>SNR</th>\n",
       "      <th>Chisq</th>\n",
       "      <th>Mass_1</th>\n",
       "      <th>Mass_2</th>\n",
       "      <th>Spin1z</th>\n",
       "      <th>Spin2z</th>\n",
       "      <th>Class</th>\n",
       "    </tr>\n",
       "  </thead>\n",
       "  <tbody>\n",
       "    <tr>\n",
       "      <th>0</th>\n",
       "      <td>7.850731</td>\n",
       "      <td>2.769055</td>\n",
       "      <td>174.809988</td>\n",
       "      <td>37.57883</td>\n",
       "      <td>-0.28955</td>\n",
       "      <td>0.06697</td>\n",
       "      <td>0.0</td>\n",
       "    </tr>\n",
       "  </tbody>\n",
       "</table>\n",
       "</div>"
      ],
      "text/plain": [
       "        SNR     Chisq      Mass_1    Mass_2   Spin1z   Spin2z  Class\n",
       "0  7.850731  2.769055  174.809988  37.57883 -0.28955  0.06697    0.0"
      ]
     },
     "metadata": {},
     "output_type": "display_data"
    },
    {
     "name": "stdout",
     "output_type": "stream",
     "text": [
      "(2, 1244451019.3194437)\n",
      "117 16.27856853931624\n"
     ]
    },
    {
     "data": {
      "text/html": [
       "<div>\n",
       "<style scoped>\n",
       "    .dataframe tbody tr th:only-of-type {\n",
       "        vertical-align: middle;\n",
       "    }\n",
       "\n",
       "    .dataframe tbody tr th {\n",
       "        vertical-align: top;\n",
       "    }\n",
       "\n",
       "    .dataframe thead th {\n",
       "        text-align: right;\n",
       "    }\n",
       "</style>\n",
       "<table border=\"1\" class=\"dataframe\">\n",
       "  <thead>\n",
       "    <tr style=\"text-align: right;\">\n",
       "      <th></th>\n",
       "      <th>SNR</th>\n",
       "      <th>Chisq</th>\n",
       "      <th>Mass_1</th>\n",
       "      <th>Mass_2</th>\n",
       "      <th>Spin1z</th>\n",
       "      <th>Spin2z</th>\n",
       "      <th>Class</th>\n",
       "    </tr>\n",
       "  </thead>\n",
       "  <tbody>\n",
       "    <tr>\n",
       "      <th>0</th>\n",
       "      <td>7.850731</td>\n",
       "      <td>2.769055</td>\n",
       "      <td>174.809988</td>\n",
       "      <td>37.578830</td>\n",
       "      <td>-0.289550</td>\n",
       "      <td>0.066970</td>\n",
       "      <td>0.0</td>\n",
       "    </tr>\n",
       "    <tr>\n",
       "      <th>0</th>\n",
       "      <td>16.747768</td>\n",
       "      <td>3.476546</td>\n",
       "      <td>62.979454</td>\n",
       "      <td>11.773144</td>\n",
       "      <td>-0.483233</td>\n",
       "      <td>-0.055422</td>\n",
       "      <td>0.0</td>\n",
       "    </tr>\n",
       "  </tbody>\n",
       "</table>\n",
       "</div>"
      ],
      "text/plain": [
       "         SNR     Chisq      Mass_1     Mass_2    Spin1z    Spin2z  Class\n",
       "0   7.850731  2.769055  174.809988  37.578830 -0.289550  0.066970    0.0\n",
       "0  16.747768  3.476546   62.979454  11.773144 -0.483233 -0.055422    0.0"
      ]
     },
     "metadata": {},
     "output_type": "display_data"
    }
   ],
   "source": [
    "drop_cols = ['Unnamed: 0', 'ifo', 'Trigger ID', 'Trigger time', 'Cluster ID', 'Cluster time', 'Template ID']\n",
    "k = 0\n",
    "cluster_id, cluster_time = list(), list()\n",
    "for group_name, df_group in df1_grouped:\n",
    "    print(group_name)\n",
    "    cluster_id.append(group_name[0])\n",
    "    cluster_time.append(group_name[1])\n",
    "    tmp = df_group.sort_values(by='Trigger time')\n",
    "    time = tmp['Trigger time']\n",
    "    tmp = tmp.drop(drop_cols, axis=1)\n",
    "    weights = tmp['SNR'] / np.max(tmp['SNR'])\n",
    "    print(len(tmp['SNR']), np.mean(tmp['SNR']))\n",
    "    cols = list(tmp.columns)\n",
    "    cols.extend(['Class'])\n",
    "    classes = 0\n",
    "    feature = averageFeature(cols, group_name, tmp, classes)\n",
    "    \n",
    "    if k == 0:\n",
    "        features = feature\n",
    "    else:\n",
    "        features = pd.concat([features, feature])\n",
    "    k = k + 1\n",
    "    display(features)\n",
    "    if k == 2:\n",
    "        break\n",
    "\n",
    "IDs = pd.DataFrame({'Cluster ID':cluster_id, 'Cluster time':cluster_time})"
   ]
  },
  {
   "cell_type": "code",
   "execution_count": 192,
   "id": "86474db4-deb4-4061-969a-1ce621083c0a",
   "metadata": {},
   "outputs": [],
   "source": [
    "def classTag(file_name):\n",
    "    if 'Injections' in file_name:\n",
    "        t = 0\n",
    "    if 'Blip' in file_name:\n",
    "        t = 1\n",
    "    if 'Koi_Fish' in file_name:\n",
    "        t = 2\n",
    "    if 'Low_Frequency_Burst' in file_name:\n",
    "        t = 3\n",
    "    if 'Tomte' in file_name:\n",
    "        t = 4\n",
    "    if 'Whistle' in file_name:\n",
    "        t = 5\n",
    "    if 'Fast_Scattering' in file_name:\n",
    "        t = 6\n",
    "    return t"
   ]
  },
  {
   "cell_type": "code",
   "execution_count": 193,
   "id": "79e93c8e-e424-4a08-aa75-74b2c6e99900",
   "metadata": {},
   "outputs": [
    {
     "name": "stdout",
     "output_type": "stream",
     "text": [
      "Blip_L1_O3a.csv 1\n",
      "Blip_L1_O3b.csv 1\n",
      "Fast_Scattering_L1_O3a.csv 6\n",
      "Fast_Scattering_L1_O3b.csv 6\n",
      "Injections_L1_O3a.csv 0\n",
      "Injections_L1_O3b.csv 0\n",
      "Koi_Fish_L1_O3a.csv 2\n",
      "Koi_Fish_L1_O3b.csv 2\n",
      "Low_Frequency_Burst_L1_O3a.csv 3\n",
      "Low_Frequency_Burst_L1_O3b.csv 3\n",
      "Tomte_L1_O3a.csv 4\n",
      "Tomte_L1_O3b.csv 4\n",
      "Whistle_L1_O3a.csv 5\n",
      "Whistle_L1_O3b.csv 5\n"
     ]
    }
   ],
   "source": [
    "file_list = np.sort(os.listdir(folder_path))\n",
    "for file_name in file_list:\n",
    "    if detector in file_name:\n",
    "        t = classTag(file_name)\n",
    "        print(file_name, t)"
   ]
  },
  {
   "cell_type": "code",
   "execution_count": 174,
   "id": "a2491e23-9663-4379-aba4-754b7c243407",
   "metadata": {},
   "outputs": [
    {
     "data": {
      "text/plain": [
       "['/home/melissa.lopez/GlitchBank/LargeAnalysis/O3aGB/FinalData/Blip_L1_O3a.csv',\n",
       " '/home/melissa.lopez/GlitchBank/LargeAnalysis/O3aGB/FinalData/Blip_L1_O3b.csv']"
      ]
     },
     "execution_count": 174,
     "metadata": {},
     "output_type": "execute_result"
    }
   ],
   "source": [
    "blip_files"
   ]
  },
  {
   "cell_type": "code",
   "execution_count": null,
   "id": "42944825-b542-4773-9595-0430b25b95ac",
   "metadata": {},
   "outputs": [],
   "source": [
    "injection_triggers = read_triggers(injection_files, 0, True)\n",
    "blip_triggers = read_triggers(blip_files, 1, True)\n",
    "koyfish_triggers = read_triggers(koyfish_files, 2, True)\n",
    "lowfreq_triggers = read_triggers(lowfreq_files, 3, True)\n",
    "tomte_triggers = read_triggers(tomte_files, 4, True)\n",
    "whistle_triggers = read_triggers(whistle_files, 5, True)\n",
    "if detector != 'V1':\n",
    "    fast_scattering_triggers = read_triggers(fast_scattering_files, 6, True)\n",
    "\n"
   ]
  },
  {
   "cell_type": "markdown",
   "id": "00dc455e-c611-49c4-984a-940741d47680",
   "metadata": {},
   "source": [
    "## Correct boostrap"
   ]
  },
  {
   "cell_type": "code",
   "execution_count": 150,
   "id": "d3ff7d0a-f1e3-451b-b529-7ad310ad00c6",
   "metadata": {},
   "outputs": [
    {
     "name": "stdout",
     "output_type": "stream",
     "text": [
      "Av_Blip_L1_O3a.csv\t\t  Av_Koi_Fish_L1_O3b.csv\n",
      "Av_Blip_L1_O3a_ID.csv\t\t  Av_Koi_Fish_L1_O3b_ID.csv\n",
      "Av_Blip_L1_O3b.csv\t\t  Av_Low_Frequency_Burst_L1_O3a.csv\n",
      "Av_Blip_L1_O3b_ID.csv\t\t  Av_Low_Frequency_Burst_L1_O3a_ID.csv\n",
      "Av_Fast_Scattering_L1_O3a.csv\t  Av_Low_Frequency_Burst_L1_O3b.csv\n",
      "Av_Fast_Scattering_L1_O3a_ID.csv  Av_Low_Frequency_Burst_L1_O3b_ID.csv\n",
      "Av_Fast_Scattering_L1_O3b.csv\t  Av_Tomte_L1_O3a.csv\n",
      "Av_Fast_Scattering_L1_O3b_ID.csv  Av_Tomte_L1_O3a_ID.csv\n",
      "Av_Injections_L1_O3a.csv\t  Av_Tomte_L1_O3b.csv\n",
      "Av_Injections_L1_O3a_ID.csv\t  Av_Tomte_L1_O3b_ID.csv\n",
      "Av_Injections_L1_O3b.csv\t  Av_Whistle_L1_O3a.csv\n",
      "Av_Injections_L1_O3b_ID.csv\t  Av_Whistle_L1_O3a_ID.csv\n",
      "Av_Koi_Fish_L1_O3a.csv\t\t  Av_Whistle_L1_O3b.csv\n",
      "Av_Koi_Fish_L1_O3a_ID.csv\t  Av_Whistle_L1_O3b_ID.csv\n"
     ]
    }
   ],
   "source": [
    "!ls ../../LargeAnalysis/O3aGB/AvDataFrames/"
   ]
  },
  {
   "cell_type": "code",
   "execution_count": 157,
   "id": "14fb3cba-b388-4f0f-be6e-725b799c55fe",
   "metadata": {},
   "outputs": [
    {
     "name": "stdout",
     "output_type": "stream",
     "text": [
      "Av_Blip_L1_O3a.csv\n",
      "Av_Fast_Scattering_L1_O3a.csv\n",
      "Av_Injections_L1_O3a.csv\n",
      "Av_Koi_Fish_L1_O3a.csv\n",
      "Av_Low_Frequency_Burst_L1_O3a.csv\n",
      "Av_Tomte_L1_O3a.csv\n",
      "Av_Whistle_L1_O3a.csv\n"
     ]
    }
   ],
   "source": [
    "path_av = '../../LargeAnalysis/O3aGB/AvDataFrames/'\n",
    "ifo = 'L1'\n",
    "\n",
    "for file in np.sort(os.listdir(path_av)):\n",
    "    if (ifo in file) and ('ID' not in file) and ('O3a' in file):\n",
    "        print(file)\n",
    "        "
   ]
  },
  {
   "cell_type": "code",
   "execution_count": 158,
   "id": "25f0a713-f198-4afe-aea2-e47d17be8121",
   "metadata": {},
   "outputs": [
    {
     "name": "stdout",
     "output_type": "stream",
     "text": [
      "Av_Blip_L1_O3a.csv\t\t  Av_Koi_Fish_L1_O3b.csv\n",
      "Av_Blip_L1_O3a_ID.csv\t\t  Av_Koi_Fish_L1_O3b_ID.csv\n",
      "Av_Blip_L1_O3b.csv\t\t  Av_Low_Frequency_Burst_L1_O3a.csv\n",
      "Av_Blip_L1_O3b_ID.csv\t\t  Av_Low_Frequency_Burst_L1_O3a_ID.csv\n",
      "Av_Fast_Scattering_L1_O3a.csv\t  Av_Low_Frequency_Burst_L1_O3b.csv\n",
      "Av_Fast_Scattering_L1_O3a_ID.csv  Av_Low_Frequency_Burst_L1_O3b_ID.csv\n",
      "Av_Fast_Scattering_L1_O3b.csv\t  Av_Tomte_L1_O3a.csv\n",
      "Av_Fast_Scattering_L1_O3b_ID.csv  Av_Tomte_L1_O3a_ID.csv\n",
      "Av_Injections_L1_O3a.csv\t  Av_Tomte_L1_O3b.csv\n",
      "Av_Injections_L1_O3a_ID.csv\t  Av_Tomte_L1_O3b_ID.csv\n",
      "Av_Injections_L1_O3b.csv\t  Av_Whistle_L1_O3a.csv\n",
      "Av_Injections_L1_O3b_ID.csv\t  Av_Whistle_L1_O3a_ID.csv\n",
      "Av_Koi_Fish_L1_O3a.csv\t\t  Av_Whistle_L1_O3b.csv\n",
      "Av_Koi_Fish_L1_O3a_ID.csv\t  Av_Whistle_L1_O3b_ID.csv\n"
     ]
    }
   ],
   "source": [
    "!ls ../../LargeAnalysis/O3aGB/AvDataFrames/"
   ]
  },
  {
   "cell_type": "code",
   "execution_count": 171,
   "id": "eae8a820-2c78-4677-a479-99640a2b2895",
   "metadata": {},
   "outputs": [
    {
     "data": {
      "text/plain": [
       "array([-0.58485679,  0.2800241 ,  0.89622325, ..., -0.42957601,\n",
       "        0.25144339,  0.04702031])"
      ]
     },
     "execution_count": 171,
     "metadata": {},
     "output_type": "execute_result"
    }
   ],
   "source": [
    "np.load('../../LargeAnalysis/O3aGB/AvDataFrames/dataset_all_L1_bootstrap_O3a.npy')[:,-1]"
   ]
  },
  {
   "cell_type": "code",
   "execution_count": null,
   "id": "4265763c-6a5c-4b72-a282-f084d8f0e987",
   "metadata": {},
   "outputs": [],
   "source": [
    "injections = np.load(\"../datasets/injection_triggers_\" + detector + \".npy\").tolist()\n",
    "blips = np.load(\"../datasets/blip_triggers_\" + detector + \".npy\").tolist()\n",
    "koyfishes = np.load(\"../datasets/koyfish_triggers_\" + detector + \".npy\").tolist()\n",
    "lowfreqs = np.load(\"../datasets/lowfreq_triggers_\" + detector + \".npy\").tolist()\n",
    "tomtes = np.load(\"../datasets/tomte_triggers_\" + detector + \".npy\").tolist()\n",
    "whistles = np.load(\"../datasets/whistle_triggers_\" + detector + \".npy\").tolist()"
   ]
  },
  {
   "cell_type": "code",
   "execution_count": 194,
   "id": "00a9e33e-95ae-4fdf-9106-f2dfd6fd78a4",
   "metadata": {},
   "outputs": [
    {
     "data": {
      "text/plain": [
       "array([1., 1.])"
      ]
     },
     "execution_count": 194,
     "metadata": {},
     "output_type": "execute_result"
    }
   ],
   "source": [
    "np.ones(2)"
   ]
  },
  {
   "cell_type": "code",
   "execution_count": 7,
   "id": "c6ee5d91-abc0-47ca-9b5f-8a4d8bceb438",
   "metadata": {},
   "outputs": [],
   "source": [
    "import os\n",
    "from datetime import datetime\n",
    "\n",
    "def string_to_hours(time_string):\n",
    "    # Specify the format of the time string\n",
    "    format_string = \"%H:%M:%S\"  # Adjust the format according to your string\n",
    "\n",
    "    # Create a reference date to combine with the time string\n",
    "    reference_date = datetime.strptime(\"00:00:00\", \"%H:%M:%S\").date()\n",
    "\n",
    "    # Parse the time string into a datetime object\n",
    "    time_obj = datetime.strptime(time_string, format_string).time()\n",
    "\n",
    "    # Combine the time object with the reference date\n",
    "    combined_datetime = datetime.combine(reference_date, time_obj)\n",
    "\n",
    "    # Calculate the time difference in hours from the reference date\n",
    "    time_diff = combined_datetime - datetime.combine(reference_date, datetime.min.time())\n",
    "    time_diff_hours = time_diff.total_seconds() / 3600\n",
    "\n",
    "    return time_diff_hours\n",
    "\n"
   ]
  },
  {
   "cell_type": "code",
   "execution_count": 8,
   "id": "40ae2958-af14-4a59-86e1-2d730a78028d",
   "metadata": {},
   "outputs": [
    {
     "data": {
      "text/plain": [
       "361130.2766666625"
      ]
     },
     "execution_count": 8,
     "metadata": {},
     "output_type": "execute_result"
    }
   ],
   "source": [
    "paths = ['/home/melissa.lopez/BayesWave/O3a/L1/Blip/pcdev_run/',\n",
    "'/home/melissa.lopez/BayesWave/O3a/L1/Blip/pcdev_run_chunk2/',\n",
    "'/home/melissa.lopez/BayesWave/O3a/L1/Blip/pcdev_run_fix/',\n",
    "'/home/paloma.laguarta/BayesWave/O3a/L1/Tomte/chunk1/',\n",
    "'/home/melissa.lopez/BayesWave/O3a/L1/Tomte/chunk2/',\n",
    "'/home/paloma.laguarta/BayesWave/O3a/L1/Tomte/chunk3/',\n",
    "'/home/melissa.lopez/BayesWave/O3a/L1/Tomte/chunk4/',\n",
    "'/home/paloma.laguarta/BayesWave/O3a/L1/Tomte/chunk5/',\n",
    "'/home/melissa.lopez/BayesWave/O3a/L1/Tomte/chunk6/',\n",
    "'/home/paloma.laguarta/BayesWave/O3a/L1/Tomte/chunk7/',\n",
    "'/home/melissa.lopez/BayesWave/O3a/L1/Tomte/chunk8/',\n",
    "'/home/paloma.laguarta/BayesWave/O3a/L1/Tomte/chunk9/',\n",
    "'/home/melissa.lopez/BayesWave/O3a/L1/Tomte/chunk10/',\n",
    "'/home/paloma.laguarta/BayesWave/O3a/L1/Tomte/chunk11/',\n",
    "'/home/melissa.lopez/BayesWave/O3a/L1/Tomte/chunk12/',\n",
    "'/home/paloma.laguarta/BayesWave/O3a/L1/Tomte/chunk13/',\n",
    "'/home/melissa.lopez/BayesWave/O3a/L1/Tomte/chunk14/',\n",
    "'/home/melissa.lopez/BayesWave/O3a/L1/Tomte/chunk16/',\n",
    "'/home/melissa.lopez/BayesWave/O3a/L1/Tomte/chunk18/',\n",
    "'/home/melissa.lopez/BayesWave/O3a/L1/Tomte/chunk20/',\n",
    "'/home/melissa.lopez/BayesWave/O3a/L1/KoiFish/osg_run_chunk1/',\n",
    "'/home/melissa.lopez/BayesWave/O3a/L1/KoiFish/chunk2/',\n",
    "'/home/melissa.lopez/BayesWave/O3a/L1/KoiFish/osg_run_chunk3/',\n",
    "'/home/melissa.lopez/BayesWave/O3a/L1/KoiFish/chunk4/']\n",
    "\n",
    "hours = 0\n",
    "for p in paths:\n",
    "    list_files = os.listdir(p)\n",
    "    for files in list_files:\n",
    "        if ('dag.nodes.log' in files) and (not files.endswith('swp')):\n",
    "            with open(p + files, 'r') as file:\n",
    "                # Read the contents of the log file line by line\n",
    "                for i, line in enumerate(file):\n",
    "                    if 'Total Remote Usage' in line:\n",
    "                        #print(line.strip()[6:14])\n",
    "                        hours += string_to_hours(line.strip()[6:14])   \n",
    "hours"
   ]
  },
  {
   "cell_type": "markdown",
   "id": "e68481e2-86f6-4fdb-b28e-d9eda5b5e47f",
   "metadata": {},
   "source": [
    "### Sarah's plot"
   ]
  },
  {
   "cell_type": "code",
   "execution_count": null,
   "id": "b3e16990-396f-4d8c-9ce9-a001f08aa212",
   "metadata": {},
   "outputs": [],
   "source": [
    "def read_templates(path_to_templates):\n",
    "    \"\"\"\n",
    "    This function is used to read the template bank\n",
    "    \n",
    "    Input\n",
    "    ----\n",
    "    path_to_templates: location of the data\n",
    "    \n",
    "    Output\n",
    "    -----\n",
    "    df: data frame containing the data\n",
    "    \"\"\"\n",
    "\n",
    "    hf = h5py.File(path_to_templates, 'r')\n",
    "    row=0; #counter of rows\n",
    "    ids= list(); mass1= list(); mass2 = list(); spin1z = list(); spin2z = list()\n",
    "    for k in hf.keys():\n",
    "            n1 = hf.get(k)\n",
    "            n2 = (np.array(n1))\n",
    "\n",
    "            ids.append(np.asarray(k, dtype=np.float32));\n",
    "            mass1.append(n2[0][0])\n",
    "            mass2.append(n2[0][1])\n",
    "            spin1z.append(n2[0][2])\n",
    "            spin2z.append(n2[0][3])\n",
    "\n",
    "    df=pd.DataFrame({'Trigger IDs': np.asarray(ids, dtype=int), 'Mass_1': mass1, 'Mass_2': mass2,'Spin1z': spin1z, 'Spin2z': spin2z})\n",
    "    return df"
   ]
  },
  {
   "cell_type": "code",
   "execution_count": 29,
   "id": "316d0283-19d8-4a54-aa9f-9baf8c2d5c3a",
   "metadata": {},
   "outputs": [],
   "source": [
    "template_bank = read_templates('../../../../ML_projects/Projects_2021/Project_2/Data/template_bank.hdf5')"
   ]
  },
  {
   "cell_type": "code",
   "execution_count": 30,
   "id": "dba21231-3026-45d2-b3a0-59d93950c5b8",
   "metadata": {},
   "outputs": [
    {
     "data": {
      "text/plain": [
       "Index(['Trigger IDs', 'Mass_1', 'Mass_2', 'Spin1z', 'Spin2z'], dtype='object')"
      ]
     },
     "execution_count": 30,
     "metadata": {},
     "output_type": "execute_result"
    }
   ],
   "source": [
    "template_bank.columns"
   ]
  },
  {
   "cell_type": "code",
   "execution_count": 45,
   "id": "23e325d6-b87a-483f-9f0c-f16ab0762ca0",
   "metadata": {},
   "outputs": [
    {
     "data": {
      "text/plain": [
       "<matplotlib.legend.Legend at 0x7f2c1420d610>"
      ]
     },
     "execution_count": 45,
     "metadata": {},
     "output_type": "execute_result"
    },
    {
     "data": {
      "image/png": "[encoded data removed]",
      "text/plain": [
       "<Figure size 800x600 with 1 Axes>"
      ]
     },
     "metadata": {},
     "output_type": "display_data"
    }
   ],
   "source": [
    "m1label = [50,60, 80,100,150, 200, 300, 400]\n",
    "m2label = [9,20, 40, 80, 100,150, 200, 300, 380]\n",
    "\n",
    "fig, axs = plt.subplots(dpi=100)\n",
    "axs.scatter(template_bank['Mass_1'], template_bank['Mass_2'], s=3, c='silver', label='Full bank')\n",
    "axs.set_xscale('log'), axs.set_yscale('log')\n",
    "axs.set_xticks(m1label), axs.set_yticks(m2label)\n",
    "axs.set_xticklabels(m1label), axs.set_yticklabels(m2label)\n",
    "axs.tick_params(axis='both', which='major', labelsize=14)\n",
    "axs.set_xlabel(r'$log(m_1)$', fontsize=15), axs.set_ylabel(r'$log(m_2)$', fontsize=15)\n",
    "axs.legend(loc='upper left',prop={'size': 16})"
   ]
  },
  {
   "cell_type": "code",
   "execution_count": 53,
   "id": "6b072098-2bd5-4e2d-ac3d-a7dc676076b9",
   "metadata": {},
   "outputs": [
    {
     "name": "stdout",
     "output_type": "stream",
     "text": [
      "gstlal_inspiral_allifo_chunk23.sqlite\n",
      "gstlal_inspiral_allifo_chunk24.cache\n",
      "gstlal_inspiral_allifo_chunk24_cut.cache\n",
      "gstlal_inspiral_allifo_chunk24.sqlite\n",
      "gstlal_inspiral_allifo_chunk25.sqlite\n",
      "gstlal_inspiral_allifo_chunk26.sqlite\n",
      "gstlal_inspiral_allifo_chunk30.sqlite\n",
      "gstlal_inspiral_allifo_chunk40.cache\n",
      "gstlal_inspiral_allifo_chunk40_cut.cache\n",
      "gstlal_inspiral_allifo_chunk40.sqlite\n",
      "gstlal_inspiral_inj_allifo_chunk23.sqlite\n",
      "gstlal_inspiral_inj_allifo_chunk24.cache\n",
      "gstlal_inspiral_inj_allifo_chunk24_cut.cache\n",
      "gstlal_inspiral_inj_allifo_chunk24.sqlite\n",
      "gstlal_inspiral_inj_allifo_chunk25.sqlite\n",
      "gstlal_inspiral_inj_allifo_chunk26.sqlite\n",
      "gstlal_inspiral_inj_allifo_chunk30.sqlite\n",
      "gstlal_inspiral_inj_allifo_chunk40.cache\n",
      "gstlal_inspiral_inj_allifo_chunk40_cut.cache\n",
      "gstlal_inspiral_inj_allifo_chunk40.sqlite\n",
      "trash\n"
     ]
    }
   ],
   "source": [
    "!ls ../../../GlitchBank/sqlites/"
   ]
  },
  {
   "cell_type": "code",
   "execution_count": null,
   "id": "13e8c091-0931-471a-9d18-32bbdc07244a",
   "metadata": {},
   "outputs": [],
   "source": [
    "folder_path = '/home/melissa.lopez/GlitchBank/LargeAnalysis/O3aGB/FinalData/'\n"
   ]
  }
 ],
 "metadata": {
  "kernelspec": {
   "display_name": "BW_env",
   "language": "python",
   "name": "bw_env"
  },
  "language_info": {
   "codemirror_mode": {
    "name": "ipython",
    "version": 3
   },
   "file_extension": ".py",
   "mimetype": "text/x-python",
   "name": "python",
   "nbconvert_exporter": "python",
   "pygments_lexer": "ipython3",
   "version": "3.11.3"
  }
 },
 "nbformat": 4,
 "nbformat_minor": 5
}
