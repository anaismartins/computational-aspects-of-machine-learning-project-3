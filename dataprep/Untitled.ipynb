{
 "cells": [
  {
   "cell_type": "code",
   "execution_count": 34,
   "id": "aee49a50-696b-458a-8216-1fbb90c475a6",
   "metadata": {},
   "outputs": [],
   "source": [
    "import pandas as pd\n",
    "import numpy as np\n",
    "import os\n",
    "import matplotlib.pyplot as plt"
   ]
  },
  {
   "cell_type": "code",
   "execution_count": 6,
   "id": "d0e9f5ce-3e67-46dd-bc47-291c2d0ebc5c",
   "metadata": {},
   "outputs": [],
   "source": [
    "folder_path = '/home/melissa.lopez/GlitchBank/LargeAnalysis/O3aGB/FinalData/'\n",
    "detector = 'L1'"
   ]
  },
  {
   "cell_type": "code",
   "execution_count": 117,
   "id": "431a699b-161c-44bf-a356-15260d73a265",
   "metadata": {},
   "outputs": [],
   "source": [
    "# Define some lists\n",
    "blip_files, fast_scattering_files, injection_files = list(), list(), list()\n",
    "koyfish_files, lowfreq_files, tomte_files = list(), list(), list()\n",
    "whistle_files = list()\n",
    "\n",
    "# Iterate over all files in the given folder\n",
    "for filename in np.sort(os.listdir(folder_path)):\n",
    "    # Check if the file is a CSV file\n",
    "    if filename.endswith(\".csv\"):\n",
    "        #Check what type of data the file contains and put in in the corresponding list.\n",
    "        if filename.startswith(\"Blip_\" + detector):\n",
    "            blip_files.append((os.path.join(folder_path, filename)))                     \n",
    "        elif filename.startswith(\"Injections_\" + detector):\n",
    "            injection_files.append((os.path.join(folder_path, filename)))       \n",
    "        elif filename.startswith(\"Koi_Fish_\" + detector):\n",
    "            koyfish_files.append((os.path.join(folder_path, filename)))\n",
    "        elif filename.startswith(\"Low_Frequency_Burst_\" + detector):\n",
    "            lowfreq_files.append((os.path.join(folder_path, filename)))\n",
    "        elif filename.startswith(\"Tomte_\" + detector):\n",
    "            tomte_files.append((os.path.join(folder_path, filename)))\n",
    "        elif filename.startswith(\"Whistle_\" + detector):\n",
    "            whistle_files.append((os.path.join(folder_path, filename))) \n",
    "        elif filename.startswith(\"Fast_Scattering_\" + detector) and (detector != \"V1\"):\n",
    "            fast_scattering_files.append((os.path.join(folder_path, filename)))"
   ]
  },
  {
   "cell_type": "code",
   "execution_count": 12,
   "id": "692a105c-28e7-4557-bdd2-5e838f7e910a",
   "metadata": {},
   "outputs": [],
   "source": [
    "path = injection_files[0]\n",
    "df = pd.read_csv(path)"
   ]
  },
  {
   "cell_type": "code",
   "execution_count": 113,
   "id": "beb47e34-00ec-467b-8ac6-9c8ff4728846",
   "metadata": {},
   "outputs": [],
   "source": [
    "df1_grouped = df.groupby(['Cluster ID', 'Cluster time'])"
   ]
  },
  {
   "cell_type": "code",
   "execution_count": 114,
   "id": "4dff5f1d-6dd0-4378-a13c-d57ab86154fc",
   "metadata": {},
   "outputs": [],
   "source": [
    "def averageFeature(cols, group_name, tmp):\n",
    "    feature = np.zeros((1, len(cols)))\n",
    "\n",
    "    for c, col in enumerate(cols):\n",
    "        feature[0, c] = (tmp[col] * weights).sum() / weights.sum()\n",
    "    feature = pd.DataFrame(feature, columns=cols)\n",
    "\n",
    "    return feature"
   ]
  },
  {
   "cell_type": "code",
   "execution_count": 116,
   "id": "43676046-0e4e-4842-8b0d-920580f930db",
   "metadata": {},
   "outputs": [
    {
     "name": "stdout",
     "output_type": "stream",
     "text": [
      "(2, 1238166114.4367027)\n",
      "64 7.5837232859374994\n"
     ]
    },
    {
     "data": {
      "text/html": [
       "<div>\n",
       "<style scoped>\n",
       "    .dataframe tbody tr th:only-of-type {\n",
       "        vertical-align: middle;\n",
       "    }\n",
       "\n",
       "    .dataframe tbody tr th {\n",
       "        vertical-align: top;\n",
       "    }\n",
       "\n",
       "    .dataframe thead th {\n",
       "        text-align: right;\n",
       "    }\n",
       "</style>\n",
       "<table border=\"1\" class=\"dataframe\">\n",
       "  <thead>\n",
       "    <tr style=\"text-align: right;\">\n",
       "      <th></th>\n",
       "      <th>SNR</th>\n",
       "      <th>Chisq</th>\n",
       "      <th>Mass_1</th>\n",
       "      <th>Mass_2</th>\n",
       "      <th>Spin1z</th>\n",
       "      <th>Spin2z</th>\n",
       "    </tr>\n",
       "  </thead>\n",
       "  <tbody>\n",
       "    <tr>\n",
       "      <th>0</th>\n",
       "      <td>7.850731</td>\n",
       "      <td>2.769055</td>\n",
       "      <td>174.809988</td>\n",
       "      <td>37.57883</td>\n",
       "      <td>-0.28955</td>\n",
       "      <td>0.06697</td>\n",
       "    </tr>\n",
       "  </tbody>\n",
       "</table>\n",
       "</div>"
      ],
      "text/plain": [
       "        SNR     Chisq      Mass_1    Mass_2   Spin1z   Spin2z\n",
       "0  7.850731  2.769055  174.809988  37.57883 -0.28955  0.06697"
      ]
     },
     "metadata": {},
     "output_type": "display_data"
    },
    {
     "name": "stdout",
     "output_type": "stream",
     "text": [
      "(2, 1244451019.3194437)\n",
      "117 16.27856853931624\n"
     ]
    },
    {
     "data": {
      "text/html": [
       "<div>\n",
       "<style scoped>\n",
       "    .dataframe tbody tr th:only-of-type {\n",
       "        vertical-align: middle;\n",
       "    }\n",
       "\n",
       "    .dataframe tbody tr th {\n",
       "        vertical-align: top;\n",
       "    }\n",
       "\n",
       "    .dataframe thead th {\n",
       "        text-align: right;\n",
       "    }\n",
       "</style>\n",
       "<table border=\"1\" class=\"dataframe\">\n",
       "  <thead>\n",
       "    <tr style=\"text-align: right;\">\n",
       "      <th></th>\n",
       "      <th>SNR</th>\n",
       "      <th>Chisq</th>\n",
       "      <th>Mass_1</th>\n",
       "      <th>Mass_2</th>\n",
       "      <th>Spin1z</th>\n",
       "      <th>Spin2z</th>\n",
       "    </tr>\n",
       "  </thead>\n",
       "  <tbody>\n",
       "    <tr>\n",
       "      <th>0</th>\n",
       "      <td>7.850731</td>\n",
       "      <td>2.769055</td>\n",
       "      <td>174.809988</td>\n",
       "      <td>37.578830</td>\n",
       "      <td>-0.289550</td>\n",
       "      <td>0.066970</td>\n",
       "    </tr>\n",
       "    <tr>\n",
       "      <th>0</th>\n",
       "      <td>16.747768</td>\n",
       "      <td>3.476546</td>\n",
       "      <td>62.979454</td>\n",
       "      <td>11.773144</td>\n",
       "      <td>-0.483233</td>\n",
       "      <td>-0.055422</td>\n",
       "    </tr>\n",
       "  </tbody>\n",
       "</table>\n",
       "</div>"
      ],
      "text/plain": [
       "         SNR     Chisq      Mass_1     Mass_2    Spin1z    Spin2z\n",
       "0   7.850731  2.769055  174.809988  37.578830 -0.289550  0.066970\n",
       "0  16.747768  3.476546   62.979454  11.773144 -0.483233 -0.055422"
      ]
     },
     "metadata": {},
     "output_type": "display_data"
    }
   ],
   "source": [
    "drop_cols = ['Unnamed: 0', 'ifo', 'Trigger ID', 'Trigger time', 'Cluster ID', 'Cluster time', 'Template ID']\n",
    "k = 0\n",
    "cluster_id, cluster_time = list(), list()\n",
    "for group_name, df_group in df1_grouped:\n",
    "    print(group_name)\n",
    "    cluster_id.append(group_name[0])\n",
    "    cluster_time.append(group_name[1])\n",
    "    tmp = df_group.sort_values(by='Trigger time')\n",
    "    time = tmp['Trigger time']\n",
    "    tmp = tmp.drop(drop_cols, axis=1)\n",
    "    weights = tmp['SNR'] / np.max(tmp['SNR'])\n",
    "    print(len(tmp['SNR']), np.mean(tmp['SNR']))\n",
    "    cols = tmp.columns\n",
    "    feature = averageFeature(cols, group_name, tmp)\n",
    "    \n",
    "    if k == 0:\n",
    "        features = feature\n",
    "    else:\n",
    "        features = pd.concat([features, feature])\n",
    "    k = k + 1\n",
    "    display(features)\n",
    "    if k == 2:\n",
    "        break\n",
    "\n",
    "IDs = pd.DataFrame({'Cluster ID':cluster_id, 'Cluster time':cluster_time})"
   ]
  },
  {
   "cell_type": "code",
   "execution_count": 107,
   "id": "fa748b0a-7c42-4c03-b2c3-71067068b744",
   "metadata": {},
   "outputs": [
    {
     "data": {
      "text/plain": [
       "array([2])"
      ]
     },
     "execution_count": 107,
     "metadata": {},
     "output_type": "execute_result"
    }
   ],
   "source": [
    "df_group['Cluster ID'].unique()"
   ]
  },
  {
   "cell_type": "code",
   "execution_count": 80,
   "id": "a1faaa88-1f18-455d-ba3a-f9cb7430a6a7",
   "metadata": {},
   "outputs": [
    {
     "data": {
      "text/plain": [
       "['group', 'SNR', 'Chisq', 'Mass_1', 'Mass_2', 'Spin1z', 'Spin2z']"
      ]
     },
     "execution_count": 80,
     "metadata": {},
     "output_type": "execute_result"
    }
   ],
   "source": [
    "cols_ = ['group']\n",
    "cols_.extend(cols)\n",
    "cols_"
   ]
  },
  {
   "cell_type": "code",
   "execution_count": 118,
   "id": "63bb86e0-0c06-43b9-8271-ceb8e211ec11",
   "metadata": {},
   "outputs": [
    {
     "data": {
      "text/html": [
       "<div>\n",
       "<style scoped>\n",
       "    .dataframe tbody tr th:only-of-type {\n",
       "        vertical-align: middle;\n",
       "    }\n",
       "\n",
       "    .dataframe tbody tr th {\n",
       "        vertical-align: top;\n",
       "    }\n",
       "\n",
       "    .dataframe thead th {\n",
       "        text-align: right;\n",
       "    }\n",
       "</style>\n",
       "<table border=\"1\" class=\"dataframe\">\n",
       "  <thead>\n",
       "    <tr style=\"text-align: right;\">\n",
       "      <th></th>\n",
       "      <th>Unnamed: 0</th>\n",
       "      <th>Cluster ID</th>\n",
       "      <th>Cluster time</th>\n",
       "    </tr>\n",
       "  </thead>\n",
       "  <tbody>\n",
       "    <tr>\n",
       "      <th>0</th>\n",
       "      <td>0</td>\n",
       "      <td>2</td>\n",
       "      <td>1.238166e+09</td>\n",
       "    </tr>\n",
       "    <tr>\n",
       "      <th>1</th>\n",
       "      <td>1</td>\n",
       "      <td>2</td>\n",
       "      <td>1.244451e+09</td>\n",
       "    </tr>\n",
       "    <tr>\n",
       "      <th>2</th>\n",
       "      <td>2</td>\n",
       "      <td>3</td>\n",
       "      <td>1.238166e+09</td>\n",
       "    </tr>\n",
       "    <tr>\n",
       "      <th>3</th>\n",
       "      <td>3</td>\n",
       "      <td>3</td>\n",
       "      <td>1.250674e+09</td>\n",
       "    </tr>\n",
       "    <tr>\n",
       "      <th>4</th>\n",
       "      <td>4</td>\n",
       "      <td>5</td>\n",
       "      <td>1.240334e+09</td>\n",
       "    </tr>\n",
       "    <tr>\n",
       "      <th>...</th>\n",
       "      <td>...</td>\n",
       "      <td>...</td>\n",
       "      <td>...</td>\n",
       "    </tr>\n",
       "    <tr>\n",
       "      <th>159234</th>\n",
       "      <td>159234</td>\n",
       "      <td>27214</td>\n",
       "      <td>1.247737e+09</td>\n",
       "    </tr>\n",
       "    <tr>\n",
       "      <th>159235</th>\n",
       "      <td>159235</td>\n",
       "      <td>27215</td>\n",
       "      <td>1.247737e+09</td>\n",
       "    </tr>\n",
       "    <tr>\n",
       "      <th>159236</th>\n",
       "      <td>159236</td>\n",
       "      <td>27218</td>\n",
       "      <td>1.247737e+09</td>\n",
       "    </tr>\n",
       "    <tr>\n",
       "      <th>159237</th>\n",
       "      <td>159237</td>\n",
       "      <td>27219</td>\n",
       "      <td>1.247737e+09</td>\n",
       "    </tr>\n",
       "    <tr>\n",
       "      <th>159238</th>\n",
       "      <td>159238</td>\n",
       "      <td>27220</td>\n",
       "      <td>1.247737e+09</td>\n",
       "    </tr>\n",
       "  </tbody>\n",
       "</table>\n",
       "<p>159239 rows × 3 columns</p>\n",
       "</div>"
      ],
      "text/plain": [
       "        Unnamed: 0  Cluster ID  Cluster time\n",
       "0                0           2  1.238166e+09\n",
       "1                1           2  1.244451e+09\n",
       "2                2           3  1.238166e+09\n",
       "3                3           3  1.250674e+09\n",
       "4                4           5  1.240334e+09\n",
       "...            ...         ...           ...\n",
       "159234      159234       27214  1.247737e+09\n",
       "159235      159235       27215  1.247737e+09\n",
       "159236      159236       27218  1.247737e+09\n",
       "159237      159237       27219  1.247737e+09\n",
       "159238      159238       27220  1.247737e+09\n",
       "\n",
       "[159239 rows x 3 columns]"
      ]
     },
     "execution_count": 118,
     "metadata": {},
     "output_type": "execute_result"
    }
   ],
   "source": [
    "pd.read_csv('dummy_IDs.csv')"
   ]
  },
  {
   "cell_type": "code",
   "execution_count": 139,
   "id": "008a0b26-4cbe-49c9-be71-34187e7025cb",
   "metadata": {},
   "outputs": [],
   "source": [
    "dt = pd.read_csv('/home/melissa.lopez/GlitchBank/LargeAnalysis/O3aGB/AvDataFrames/Av_Injections_L1_O3a.csv')"
   ]
  },
  {
   "cell_type": "code",
   "execution_count": 140,
   "id": "45830f6c-c79f-4dd3-9413-b2a1899b2a75",
   "metadata": {},
   "outputs": [
    {
     "data": {
      "text/html": [
       "<div>\n",
       "<style scoped>\n",
       "    .dataframe tbody tr th:only-of-type {\n",
       "        vertical-align: middle;\n",
       "    }\n",
       "\n",
       "    .dataframe tbody tr th {\n",
       "        vertical-align: top;\n",
       "    }\n",
       "\n",
       "    .dataframe thead th {\n",
       "        text-align: right;\n",
       "    }\n",
       "</style>\n",
       "<table border=\"1\" class=\"dataframe\">\n",
       "  <thead>\n",
       "    <tr style=\"text-align: right;\">\n",
       "      <th></th>\n",
       "      <th>SNR</th>\n",
       "      <th>Chisq</th>\n",
       "      <th>Mass_1</th>\n",
       "      <th>Mass_2</th>\n",
       "      <th>Spin1z</th>\n",
       "      <th>Spin2z</th>\n",
       "    </tr>\n",
       "  </thead>\n",
       "  <tbody>\n",
       "    <tr>\n",
       "      <th>0</th>\n",
       "      <td>7.850731</td>\n",
       "      <td>2.769055</td>\n",
       "      <td>174.809988</td>\n",
       "      <td>37.578830</td>\n",
       "      <td>-0.289550</td>\n",
       "      <td>0.066970</td>\n",
       "    </tr>\n",
       "    <tr>\n",
       "      <th>1</th>\n",
       "      <td>16.747768</td>\n",
       "      <td>3.476546</td>\n",
       "      <td>62.979454</td>\n",
       "      <td>11.773144</td>\n",
       "      <td>-0.483233</td>\n",
       "      <td>-0.055422</td>\n",
       "    </tr>\n",
       "    <tr>\n",
       "      <th>2</th>\n",
       "      <td>4.469691</td>\n",
       "      <td>0.928928</td>\n",
       "      <td>37.415399</td>\n",
       "      <td>16.995580</td>\n",
       "      <td>0.758052</td>\n",
       "      <td>-0.100917</td>\n",
       "    </tr>\n",
       "    <tr>\n",
       "      <th>3</th>\n",
       "      <td>10.452025</td>\n",
       "      <td>3.689212</td>\n",
       "      <td>99.204812</td>\n",
       "      <td>16.232065</td>\n",
       "      <td>-0.458298</td>\n",
       "      <td>0.375759</td>\n",
       "    </tr>\n",
       "    <tr>\n",
       "      <th>4</th>\n",
       "      <td>7.595686</td>\n",
       "      <td>0.540775</td>\n",
       "      <td>422.670937</td>\n",
       "      <td>110.160999</td>\n",
       "      <td>0.328761</td>\n",
       "      <td>0.208082</td>\n",
       "    </tr>\n",
       "    <tr>\n",
       "      <th>...</th>\n",
       "      <td>...</td>\n",
       "      <td>...</td>\n",
       "      <td>...</td>\n",
       "      <td>...</td>\n",
       "      <td>...</td>\n",
       "      <td>...</td>\n",
       "    </tr>\n",
       "    <tr>\n",
       "      <th>159234</th>\n",
       "      <td>9.912576</td>\n",
       "      <td>2.755996</td>\n",
       "      <td>70.259355</td>\n",
       "      <td>10.760917</td>\n",
       "      <td>-0.338562</td>\n",
       "      <td>0.104626</td>\n",
       "    </tr>\n",
       "    <tr>\n",
       "      <th>159235</th>\n",
       "      <td>4.344459</td>\n",
       "      <td>0.908955</td>\n",
       "      <td>45.405682</td>\n",
       "      <td>4.775333</td>\n",
       "      <td>0.953063</td>\n",
       "      <td>-0.934331</td>\n",
       "    </tr>\n",
       "    <tr>\n",
       "      <th>159236</th>\n",
       "      <td>4.058321</td>\n",
       "      <td>1.080616</td>\n",
       "      <td>45.997225</td>\n",
       "      <td>6.359614</td>\n",
       "      <td>0.955899</td>\n",
       "      <td>0.190847</td>\n",
       "    </tr>\n",
       "    <tr>\n",
       "      <th>159237</th>\n",
       "      <td>4.301000</td>\n",
       "      <td>0.834829</td>\n",
       "      <td>44.990089</td>\n",
       "      <td>5.676049</td>\n",
       "      <td>0.954672</td>\n",
       "      <td>0.078123</td>\n",
       "    </tr>\n",
       "    <tr>\n",
       "      <th>159238</th>\n",
       "      <td>6.954072</td>\n",
       "      <td>1.349395</td>\n",
       "      <td>236.353654</td>\n",
       "      <td>43.525802</td>\n",
       "      <td>0.027281</td>\n",
       "      <td>0.038533</td>\n",
       "    </tr>\n",
       "  </tbody>\n",
       "</table>\n",
       "<p>159239 rows × 6 columns</p>\n",
       "</div>"
      ],
      "text/plain": [
       "              SNR     Chisq      Mass_1      Mass_2    Spin1z    Spin2z\n",
       "0        7.850731  2.769055  174.809988   37.578830 -0.289550  0.066970\n",
       "1       16.747768  3.476546   62.979454   11.773144 -0.483233 -0.055422\n",
       "2        4.469691  0.928928   37.415399   16.995580  0.758052 -0.100917\n",
       "3       10.452025  3.689212   99.204812   16.232065 -0.458298  0.375759\n",
       "4        7.595686  0.540775  422.670937  110.160999  0.328761  0.208082\n",
       "...           ...       ...         ...         ...       ...       ...\n",
       "159234   9.912576  2.755996   70.259355   10.760917 -0.338562  0.104626\n",
       "159235   4.344459  0.908955   45.405682    4.775333  0.953063 -0.934331\n",
       "159236   4.058321  1.080616   45.997225    6.359614  0.955899  0.190847\n",
       "159237   4.301000  0.834829   44.990089    5.676049  0.954672  0.078123\n",
       "159238   6.954072  1.349395  236.353654   43.525802  0.027281  0.038533\n",
       "\n",
       "[159239 rows x 6 columns]"
      ]
     },
     "execution_count": 140,
     "metadata": {},
     "output_type": "execute_result"
    }
   ],
   "source": [
    "dt"
   ]
  },
  {
   "cell_type": "code",
   "execution_count": 141,
   "id": "9f62402b-9148-4bdf-a8f3-be9ad893d5b0",
   "metadata": {},
   "outputs": [
    {
     "name": "stdout",
     "output_type": "stream",
     "text": [
      "Av_Blip_L1_O3a.csv\t\t  Av_Koi_Fish_L1_O3b.csv\n",
      "Av_Blip_L1_O3a_ID.csv\t\t  Av_Koi_Fish_L1_O3b_ID.csv\n",
      "Av_Blip_L1_O3b.csv\t\t  Av_Low_Frequency_Burst_L1_O3a.csv\n",
      "Av_Blip_L1_O3b_ID.csv\t\t  Av_Low_Frequency_Burst_L1_O3a_ID.csv\n",
      "Av_Fast_Scattering_L1_O3a.csv\t  Av_Low_Frequency_Burst_L1_O3b.csv\n",
      "Av_Fast_Scattering_L1_O3a_ID.csv  Av_Low_Frequency_Burst_L1_O3b_ID.csv\n",
      "Av_Fast_Scattering_L1_O3b.csv\t  Av_Tomte_L1_O3a.csv\n",
      "Av_Fast_Scattering_L1_O3b_ID.csv  Av_Tomte_L1_O3a_ID.csv\n",
      "Av_Injections_L1_O3a.csv\t  Av_Tomte_L1_O3b.csv\n",
      "Av_Injections_L1_O3a_ID.csv\t  Av_Tomte_L1_O3b_ID.csv\n",
      "Av_Injections_L1_O3b.csv\t  Av_Whistle_L1_O3a.csv\n",
      "Av_Injections_L1_O3b_ID.csv\t  Av_Whistle_L1_O3a_ID.csv\n",
      "Av_Koi_Fish_L1_O3a.csv\t\t  Av_Whistle_L1_O3b.csv\n",
      "Av_Koi_Fish_L1_O3a_ID.csv\t  Av_Whistle_L1_O3b_ID.csv\n"
     ]
    }
   ],
   "source": [
    "!ls /home/melissa.lopez/GlitchBank/LargeAnalysis/O3aGB/AvDataFrames/"
   ]
  },
  {
   "cell_type": "code",
   "execution_count": null,
   "id": "62d1aee0-0d24-4528-9c25-2a88c56aca88",
   "metadata": {},
   "outputs": [],
   "source": []
  }
 ],
 "metadata": {
  "kernelspec": {
   "display_name": "igwn-py38",
   "language": "python",
   "name": "igwn-py38"
  },
  "language_info": {
   "codemirror_mode": {
    "name": "ipython",
    "version": 3
   },
   "file_extension": ".py",
   "mimetype": "text/x-python",
   "name": "python",
   "nbconvert_exporter": "python",
   "pygments_lexer": "ipython3",
   "version": "3.8.16"
  }
 },
 "nbformat": 4,
 "nbformat_minor": 5
}
